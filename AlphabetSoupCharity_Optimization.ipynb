{
  "cells": [
    {
      "cell_type": "markdown",
      "metadata": {
        "id": "9mZYjzdcuYvW"
      },
      "source": [
        "## Preprocessing"
      ]
    },
    {
      "cell_type": "code",
      "execution_count": 190,
      "metadata": {
        "colab": {
          "base_uri": "https://localhost:8080/",
          "height": 452
        },
        "id": "1mV7QA4nuYvd",
        "outputId": "55db0b5e-99ae-42ea-ec03-83d4b579e181"
      },
      "outputs": [
        {
          "output_type": "execute_result",
          "data": {
            "text/plain": [
              "        EIN                                      NAME APPLICATION_TYPE  \\\n",
              "0  10520599              BLUE KNIGHTS MOTORCYCLE CLUB              T10   \n",
              "1  10531628    AMERICAN CHESAPEAKE CLUB CHARITABLE TR               T3   \n",
              "2  10547893        ST CLOUD PROFESSIONAL FIREFIGHTERS               T5   \n",
              "3  10553066            SOUTHSIDE ATHLETIC ASSOCIATION               T3   \n",
              "4  10556103  GENETIC RESEARCH INSTITUTE OF THE DESERT               T3   \n",
              "\n",
              "        AFFILIATION CLASSIFICATION      USE_CASE  ORGANIZATION  STATUS  \\\n",
              "0       Independent          C1000    ProductDev   Association       1   \n",
              "1       Independent          C2000  Preservation  Co-operative       1   \n",
              "2  CompanySponsored          C3000    ProductDev   Association       1   \n",
              "3  CompanySponsored          C2000  Preservation         Trust       1   \n",
              "4       Independent          C1000     Heathcare         Trust       1   \n",
              "\n",
              "      INCOME_AMT SPECIAL_CONSIDERATIONS  ASK_AMT  IS_SUCCESSFUL  \n",
              "0              0                      N     5000              1  \n",
              "1         1-9999                      N   108590              1  \n",
              "2              0                      N     5000              0  \n",
              "3    10000-24999                      N     6692              1  \n",
              "4  100000-499999                      N   142590              1  "
            ],
            "text/html": [
              "\n",
              "  <div id=\"df-7a5b3110-79ab-4d6c-bd0a-f2dde9b66f9b\" class=\"colab-df-container\">\n",
              "    <div>\n",
              "<style scoped>\n",
              "    .dataframe tbody tr th:only-of-type {\n",
              "        vertical-align: middle;\n",
              "    }\n",
              "\n",
              "    .dataframe tbody tr th {\n",
              "        vertical-align: top;\n",
              "    }\n",
              "\n",
              "    .dataframe thead th {\n",
              "        text-align: right;\n",
              "    }\n",
              "</style>\n",
              "<table border=\"1\" class=\"dataframe\">\n",
              "  <thead>\n",
              "    <tr style=\"text-align: right;\">\n",
              "      <th></th>\n",
              "      <th>EIN</th>\n",
              "      <th>NAME</th>\n",
              "      <th>APPLICATION_TYPE</th>\n",
              "      <th>AFFILIATION</th>\n",
              "      <th>CLASSIFICATION</th>\n",
              "      <th>USE_CASE</th>\n",
              "      <th>ORGANIZATION</th>\n",
              "      <th>STATUS</th>\n",
              "      <th>INCOME_AMT</th>\n",
              "      <th>SPECIAL_CONSIDERATIONS</th>\n",
              "      <th>ASK_AMT</th>\n",
              "      <th>IS_SUCCESSFUL</th>\n",
              "    </tr>\n",
              "  </thead>\n",
              "  <tbody>\n",
              "    <tr>\n",
              "      <th>0</th>\n",
              "      <td>10520599</td>\n",
              "      <td>BLUE KNIGHTS MOTORCYCLE CLUB</td>\n",
              "      <td>T10</td>\n",
              "      <td>Independent</td>\n",
              "      <td>C1000</td>\n",
              "      <td>ProductDev</td>\n",
              "      <td>Association</td>\n",
              "      <td>1</td>\n",
              "      <td>0</td>\n",
              "      <td>N</td>\n",
              "      <td>5000</td>\n",
              "      <td>1</td>\n",
              "    </tr>\n",
              "    <tr>\n",
              "      <th>1</th>\n",
              "      <td>10531628</td>\n",
              "      <td>AMERICAN CHESAPEAKE CLUB CHARITABLE TR</td>\n",
              "      <td>T3</td>\n",
              "      <td>Independent</td>\n",
              "      <td>C2000</td>\n",
              "      <td>Preservation</td>\n",
              "      <td>Co-operative</td>\n",
              "      <td>1</td>\n",
              "      <td>1-9999</td>\n",
              "      <td>N</td>\n",
              "      <td>108590</td>\n",
              "      <td>1</td>\n",
              "    </tr>\n",
              "    <tr>\n",
              "      <th>2</th>\n",
              "      <td>10547893</td>\n",
              "      <td>ST CLOUD PROFESSIONAL FIREFIGHTERS</td>\n",
              "      <td>T5</td>\n",
              "      <td>CompanySponsored</td>\n",
              "      <td>C3000</td>\n",
              "      <td>ProductDev</td>\n",
              "      <td>Association</td>\n",
              "      <td>1</td>\n",
              "      <td>0</td>\n",
              "      <td>N</td>\n",
              "      <td>5000</td>\n",
              "      <td>0</td>\n",
              "    </tr>\n",
              "    <tr>\n",
              "      <th>3</th>\n",
              "      <td>10553066</td>\n",
              "      <td>SOUTHSIDE ATHLETIC ASSOCIATION</td>\n",
              "      <td>T3</td>\n",
              "      <td>CompanySponsored</td>\n",
              "      <td>C2000</td>\n",
              "      <td>Preservation</td>\n",
              "      <td>Trust</td>\n",
              "      <td>1</td>\n",
              "      <td>10000-24999</td>\n",
              "      <td>N</td>\n",
              "      <td>6692</td>\n",
              "      <td>1</td>\n",
              "    </tr>\n",
              "    <tr>\n",
              "      <th>4</th>\n",
              "      <td>10556103</td>\n",
              "      <td>GENETIC RESEARCH INSTITUTE OF THE DESERT</td>\n",
              "      <td>T3</td>\n",
              "      <td>Independent</td>\n",
              "      <td>C1000</td>\n",
              "      <td>Heathcare</td>\n",
              "      <td>Trust</td>\n",
              "      <td>1</td>\n",
              "      <td>100000-499999</td>\n",
              "      <td>N</td>\n",
              "      <td>142590</td>\n",
              "      <td>1</td>\n",
              "    </tr>\n",
              "  </tbody>\n",
              "</table>\n",
              "</div>\n",
              "    <div class=\"colab-df-buttons\">\n",
              "\n",
              "  <div class=\"colab-df-container\">\n",
              "    <button class=\"colab-df-convert\" onclick=\"convertToInteractive('df-7a5b3110-79ab-4d6c-bd0a-f2dde9b66f9b')\"\n",
              "            title=\"Convert this dataframe to an interactive table.\"\n",
              "            style=\"display:none;\">\n",
              "\n",
              "  <svg xmlns=\"http://www.w3.org/2000/svg\" height=\"24px\" viewBox=\"0 -960 960 960\">\n",
              "    <path d=\"M120-120v-720h720v720H120Zm60-500h600v-160H180v160Zm220 220h160v-160H400v160Zm0 220h160v-160H400v160ZM180-400h160v-160H180v160Zm440 0h160v-160H620v160ZM180-180h160v-160H180v160Zm440 0h160v-160H620v160Z\"/>\n",
              "  </svg>\n",
              "    </button>\n",
              "\n",
              "  <style>\n",
              "    .colab-df-container {\n",
              "      display:flex;\n",
              "      gap: 12px;\n",
              "    }\n",
              "\n",
              "    .colab-df-convert {\n",
              "      background-color: #E8F0FE;\n",
              "      border: none;\n",
              "      border-radius: 50%;\n",
              "      cursor: pointer;\n",
              "      display: none;\n",
              "      fill: #1967D2;\n",
              "      height: 32px;\n",
              "      padding: 0 0 0 0;\n",
              "      width: 32px;\n",
              "    }\n",
              "\n",
              "    .colab-df-convert:hover {\n",
              "      background-color: #E2EBFA;\n",
              "      box-shadow: 0px 1px 2px rgba(60, 64, 67, 0.3), 0px 1px 3px 1px rgba(60, 64, 67, 0.15);\n",
              "      fill: #174EA6;\n",
              "    }\n",
              "\n",
              "    .colab-df-buttons div {\n",
              "      margin-bottom: 4px;\n",
              "    }\n",
              "\n",
              "    [theme=dark] .colab-df-convert {\n",
              "      background-color: #3B4455;\n",
              "      fill: #D2E3FC;\n",
              "    }\n",
              "\n",
              "    [theme=dark] .colab-df-convert:hover {\n",
              "      background-color: #434B5C;\n",
              "      box-shadow: 0px 1px 3px 1px rgba(0, 0, 0, 0.15);\n",
              "      filter: drop-shadow(0px 1px 2px rgba(0, 0, 0, 0.3));\n",
              "      fill: #FFFFFF;\n",
              "    }\n",
              "  </style>\n",
              "\n",
              "    <script>\n",
              "      const buttonEl =\n",
              "        document.querySelector('#df-7a5b3110-79ab-4d6c-bd0a-f2dde9b66f9b button.colab-df-convert');\n",
              "      buttonEl.style.display =\n",
              "        google.colab.kernel.accessAllowed ? 'block' : 'none';\n",
              "\n",
              "      async function convertToInteractive(key) {\n",
              "        const element = document.querySelector('#df-7a5b3110-79ab-4d6c-bd0a-f2dde9b66f9b');\n",
              "        const dataTable =\n",
              "          await google.colab.kernel.invokeFunction('convertToInteractive',\n",
              "                                                    [key], {});\n",
              "        if (!dataTable) return;\n",
              "\n",
              "        const docLinkHtml = 'Like what you see? Visit the ' +\n",
              "          '<a target=\"_blank\" href=https://colab.research.google.com/notebooks/data_table.ipynb>data table notebook</a>'\n",
              "          + ' to learn more about interactive tables.';\n",
              "        element.innerHTML = '';\n",
              "        dataTable['output_type'] = 'display_data';\n",
              "        await google.colab.output.renderOutput(dataTable, element);\n",
              "        const docLink = document.createElement('div');\n",
              "        docLink.innerHTML = docLinkHtml;\n",
              "        element.appendChild(docLink);\n",
              "      }\n",
              "    </script>\n",
              "  </div>\n",
              "\n",
              "\n",
              "<div id=\"df-a1974a65-85eb-4ff1-a18a-a54a2141413c\">\n",
              "  <button class=\"colab-df-quickchart\" onclick=\"quickchart('df-a1974a65-85eb-4ff1-a18a-a54a2141413c')\"\n",
              "            title=\"Suggest charts.\"\n",
              "            style=\"display:none;\">\n",
              "\n",
              "<svg xmlns=\"http://www.w3.org/2000/svg\" height=\"24px\"viewBox=\"0 0 24 24\"\n",
              "     width=\"24px\">\n",
              "    <g>\n",
              "        <path d=\"M19 3H5c-1.1 0-2 .9-2 2v14c0 1.1.9 2 2 2h14c1.1 0 2-.9 2-2V5c0-1.1-.9-2-2-2zM9 17H7v-7h2v7zm4 0h-2V7h2v10zm4 0h-2v-4h2v4z\"/>\n",
              "    </g>\n",
              "</svg>\n",
              "  </button>\n",
              "\n",
              "<style>\n",
              "  .colab-df-quickchart {\n",
              "    background-color: #E8F0FE;\n",
              "    border: none;\n",
              "    border-radius: 50%;\n",
              "    cursor: pointer;\n",
              "    display: none;\n",
              "    fill: #1967D2;\n",
              "    height: 32px;\n",
              "    padding: 0 0 0 0;\n",
              "    width: 32px;\n",
              "  }\n",
              "\n",
              "  .colab-df-quickchart:hover {\n",
              "    background-color: #E2EBFA;\n",
              "    box-shadow: 0px 1px 2px rgba(60, 64, 67, 0.3), 0px 1px 3px 1px rgba(60, 64, 67, 0.15);\n",
              "    fill: #174EA6;\n",
              "  }\n",
              "\n",
              "  [theme=dark] .colab-df-quickchart {\n",
              "    background-color: #3B4455;\n",
              "    fill: #D2E3FC;\n",
              "  }\n",
              "\n",
              "  [theme=dark] .colab-df-quickchart:hover {\n",
              "    background-color: #434B5C;\n",
              "    box-shadow: 0px 1px 3px 1px rgba(0, 0, 0, 0.15);\n",
              "    filter: drop-shadow(0px 1px 2px rgba(0, 0, 0, 0.3));\n",
              "    fill: #FFFFFF;\n",
              "  }\n",
              "</style>\n",
              "\n",
              "  <script>\n",
              "    async function quickchart(key) {\n",
              "      const charts = await google.colab.kernel.invokeFunction(\n",
              "          'suggestCharts', [key], {});\n",
              "    }\n",
              "    (() => {\n",
              "      let quickchartButtonEl =\n",
              "        document.querySelector('#df-a1974a65-85eb-4ff1-a18a-a54a2141413c button');\n",
              "      quickchartButtonEl.style.display =\n",
              "        google.colab.kernel.accessAllowed ? 'block' : 'none';\n",
              "    })();\n",
              "  </script>\n",
              "</div>\n",
              "    </div>\n",
              "  </div>\n"
            ]
          },
          "metadata": {},
          "execution_count": 190
        }
      ],
      "source": [
        "# Import our dependencies\n",
        "from sklearn.model_selection import train_test_split\n",
        "from sklearn.preprocessing import StandardScaler\n",
        "import pandas as pd\n",
        "import tensorflow as tf\n",
        "\n",
        "#  Import and read the charity_data.csv.\n",
        "import pandas as pd\n",
        "application_df = pd.read_csv(\"https://static.bc-edx.com/data/dl-1-2/m21/lms/starter/charity_data.csv\")\n",
        "application_df.head()"
      ]
    },
    {
      "cell_type": "code",
      "execution_count": 191,
      "metadata": {
        "id": "OGd7i4o4uYvf"
      },
      "outputs": [],
      "source": [
        "# Drop the non-beneficial ID columns, 'EIN' and 'NAME'.\n",
        "application_df.drop(['EIN', 'NAME'], axis=1, inplace=True)\n"
      ]
    },
    {
      "cell_type": "code",
      "execution_count": 192,
      "metadata": {
        "id": "7fhPjZJBuYvg",
        "colab": {
          "base_uri": "https://localhost:8080/"
        },
        "outputId": "ce277445-3d68-4882-e7cc-4893f404a7ce"
      },
      "outputs": [
        {
          "output_type": "execute_result",
          "data": {
            "text/plain": [
              "APPLICATION_TYPE            17\n",
              "AFFILIATION                  6\n",
              "CLASSIFICATION              71\n",
              "USE_CASE                     5\n",
              "ORGANIZATION                 4\n",
              "STATUS                       2\n",
              "INCOME_AMT                   9\n",
              "SPECIAL_CONSIDERATIONS       2\n",
              "ASK_AMT                   8747\n",
              "IS_SUCCESSFUL                2\n",
              "dtype: int64"
            ]
          },
          "metadata": {},
          "execution_count": 192
        }
      ],
      "source": [
        "# Determine the number of unique values in each column.\n",
        "application_df.nunique()"
      ]
    },
    {
      "cell_type": "code",
      "execution_count": 193,
      "metadata": {
        "id": "n8zGYDO-uYvg",
        "colab": {
          "base_uri": "https://localhost:8080/"
        },
        "outputId": "0b005386-507c-4f08-92b3-08e58b714b2b"
      },
      "outputs": [
        {
          "output_type": "execute_result",
          "data": {
            "text/plain": [
              "T3     27037\n",
              "T4      1542\n",
              "T6      1216\n",
              "T5      1173\n",
              "T19     1065\n",
              "T8       737\n",
              "T7       725\n",
              "T10      528\n",
              "T9       156\n",
              "T13       66\n",
              "T12       27\n",
              "T2        16\n",
              "T25        3\n",
              "T14        3\n",
              "T29        2\n",
              "T15        2\n",
              "T17        1\n",
              "Name: APPLICATION_TYPE, dtype: int64"
            ]
          },
          "metadata": {},
          "execution_count": 193
        }
      ],
      "source": [
        "# Look at APPLICATION_TYPE value counts for binning\n",
        "application_df['APPLICATION_TYPE'].value_counts()"
      ]
    },
    {
      "cell_type": "code",
      "execution_count": 194,
      "metadata": {
        "id": "pDvzLoOPuYvh",
        "colab": {
          "base_uri": "https://localhost:8080/"
        },
        "outputId": "a09ab4a9-fedd-4995-a421-da57b8063987"
      },
      "outputs": [
        {
          "output_type": "execute_result",
          "data": {
            "text/plain": [
              "T3       27037\n",
              "T4        1542\n",
              "T6        1216\n",
              "T5        1173\n",
              "T19       1065\n",
              "T8         737\n",
              "T7         725\n",
              "T10        528\n",
              "T9         156\n",
              "T13         66\n",
              "T12         27\n",
              "T2          16\n",
              "Other       11\n",
              "Name: APPLICATION_TYPE, dtype: int64"
            ]
          },
          "metadata": {},
          "execution_count": 194
        }
      ],
      "source": [
        "# Choose a cutoff value and create a list of application types to be replaced\n",
        "# use the variable name `application_types_to_replace`\n",
        "#application_types_to_replace = ['T9', 'T13', 'T12', 'T2', 'T14', 'T25', 'T15', 'T29', 'T17']\n",
        "application_types_to_replace = ['T14', 'T25', 'T15', 'T29', 'T17']\n",
        "\n",
        "# Replace in dataframe\n",
        "for app in application_types_to_replace:\n",
        "    application_df['APPLICATION_TYPE'] = application_df['APPLICATION_TYPE'].replace(app,\"Other\")\n",
        "\n",
        "# Check to make sure binning was successful\n",
        "application_df['APPLICATION_TYPE'].value_counts()"
      ]
    },
    {
      "cell_type": "code",
      "execution_count": 195,
      "metadata": {
        "id": "ybnR45sZuYvi",
        "colab": {
          "base_uri": "https://localhost:8080/"
        },
        "outputId": "b2807f07-ea84-4d33-c474-c59cb3ed6f2f"
      },
      "outputs": [
        {
          "output_type": "execute_result",
          "data": {
            "text/plain": [
              "C1000    17326\n",
              "C2000     6074\n",
              "C1200     4837\n",
              "C3000     1918\n",
              "C2100     1883\n",
              "         ...  \n",
              "C4120        1\n",
              "C8210        1\n",
              "C2561        1\n",
              "C4500        1\n",
              "C2150        1\n",
              "Name: CLASSIFICATION, Length: 71, dtype: int64"
            ]
          },
          "metadata": {},
          "execution_count": 195
        }
      ],
      "source": [
        "# Look at CLASSIFICATION value counts for binning\n",
        "application_df['CLASSIFICATION'].value_counts()"
      ]
    },
    {
      "cell_type": "code",
      "execution_count": 196,
      "metadata": {
        "id": "AiJo4_EmuYvi",
        "colab": {
          "base_uri": "https://localhost:8080/"
        },
        "outputId": "3d361281-b303-460b-d20d-a88f9358379a"
      },
      "outputs": [
        {
          "output_type": "execute_result",
          "data": {
            "text/plain": [
              "C1000    17326\n",
              "C2000     6074\n",
              "C1200     4837\n",
              "C3000     1918\n",
              "C2100     1883\n",
              "C7000      777\n",
              "C1700      287\n",
              "C4000      194\n",
              "C5000      116\n",
              "C1270      114\n",
              "C2700      104\n",
              "C2800       95\n",
              "C7100       75\n",
              "C1300       58\n",
              "C1280       50\n",
              "C1230       36\n",
              "C1400       34\n",
              "C7200       32\n",
              "C2300       32\n",
              "C1240       30\n",
              "C8000       20\n",
              "C7120       18\n",
              "C1500       16\n",
              "C1800       15\n",
              "C6000       15\n",
              "C1250       14\n",
              "C8200       11\n",
              "C1238       10\n",
              "C1278       10\n",
              "C1235        9\n",
              "C1237        9\n",
              "C7210        7\n",
              "C2400        6\n",
              "C1720        6\n",
              "C4100        6\n",
              "C1257        5\n",
              "C1600        5\n",
              "C1260        3\n",
              "C2710        3\n",
              "C0           3\n",
              "C3200        2\n",
              "C1234        2\n",
              "C1246        2\n",
              "C1267        2\n",
              "C1256        2\n",
              "Name: CLASSIFICATION, dtype: int64"
            ]
          },
          "metadata": {},
          "execution_count": 196
        }
      ],
      "source": [
        "# You may find it helpful to look at CLASSIFICATION value counts >1\n",
        "classification_counts = application_df['CLASSIFICATION'].value_counts()\n",
        "#Filter those with value counts >1\n",
        "classification_counts[classification_counts > 1]"
      ]
    },
    {
      "cell_type": "code",
      "execution_count": 197,
      "metadata": {
        "id": "Sv8JOFX-uYvj",
        "colab": {
          "base_uri": "https://localhost:8080/"
        },
        "outputId": "731f3ad4-d3e8-4067-e88f-4d7007b8a2ad"
      },
      "outputs": [
        {
          "output_type": "execute_result",
          "data": {
            "text/plain": [
              "C1000    17326\n",
              "C2000     6074\n",
              "C1200     4837\n",
              "C3000     1918\n",
              "C2100     1883\n",
              "C7000      777\n",
              "C1700      287\n",
              "C4000      194\n",
              "C5000      116\n",
              "C1270      114\n",
              "C2700      104\n",
              "C2800       95\n",
              "C7100       75\n",
              "C1300       58\n",
              "C1280       50\n",
              "C1230       36\n",
              "Other       36\n",
              "C1400       34\n",
              "C2300       32\n",
              "C7200       32\n",
              "C1240       30\n",
              "C8000       20\n",
              "C7120       18\n",
              "C1500       16\n",
              "C6000       15\n",
              "C1800       15\n",
              "C1250       14\n",
              "C8200       11\n",
              "C1238       10\n",
              "C1278       10\n",
              "C1237        9\n",
              "C1235        9\n",
              "C7210        7\n",
              "C2400        6\n",
              "C4100        6\n",
              "C1720        6\n",
              "C1257        5\n",
              "C1600        5\n",
              "C1260        3\n",
              "C2710        3\n",
              "C0           3\n",
              "Name: CLASSIFICATION, dtype: int64"
            ]
          },
          "metadata": {},
          "execution_count": 197
        }
      ],
      "source": [
        "# Choose a cutoff value and create a list of classifications to be replaced\n",
        "# Filter the counts to only include those with counts less than or equal to 1\n",
        "filtered_counts_less_than_2 = classification_counts[classification_counts <= 2]\n",
        "\n",
        "# Create a list of classifications to be replaced\n",
        "classifications_to_replace_less_than_2 = filtered_counts_less_than_2.index.tolist()\n",
        "\n",
        "# Replace in dataframe\n",
        "for cls in classifications_to_replace_less_than_2:\n",
        "    application_df['CLASSIFICATION'] = application_df['CLASSIFICATION'].replace(cls,\"Other\")\n",
        "\n",
        "# Check to make sure binning was successful\n",
        "application_df['CLASSIFICATION'].value_counts()"
      ]
    },
    {
      "cell_type": "code",
      "execution_count": 198,
      "metadata": {
        "id": "wqymSOJmuYvk"
      },
      "outputs": [],
      "source": [
        "# Convert categorical data to numeric with `pd.get_dummies`\n",
        "# Categorical columns\n",
        "categorical_columns = ['APPLICATION_TYPE', 'CLASSIFICATION','ORGANIZATION','USE_CASE','AFFILIATION','SPECIAL_CONSIDERATIONS','INCOME_AMT']\n",
        "\n",
        "# Convert categorical columns to numeric using one-hot encoding\n",
        "df_dummies = pd.get_dummies(application_df, columns=categorical_columns)"
      ]
    },
    {
      "cell_type": "code",
      "source": [],
      "metadata": {
        "id": "OumdljcuzcFU"
      },
      "execution_count": 198,
      "outputs": []
    },
    {
      "cell_type": "code",
      "source": [
        "application_df.columns"
      ],
      "metadata": {
        "colab": {
          "base_uri": "https://localhost:8080/"
        },
        "id": "Ka6F6extiuCW",
        "outputId": "2cb349a4-5b14-4f4d-f5d5-b7394a89e5d1"
      },
      "execution_count": 199,
      "outputs": [
        {
          "output_type": "execute_result",
          "data": {
            "text/plain": [
              "Index(['APPLICATION_TYPE', 'AFFILIATION', 'CLASSIFICATION', 'USE_CASE',\n",
              "       'ORGANIZATION', 'STATUS', 'INCOME_AMT', 'SPECIAL_CONSIDERATIONS',\n",
              "       'ASK_AMT', 'IS_SUCCESSFUL'],\n",
              "      dtype='object')"
            ]
          },
          "metadata": {},
          "execution_count": 199
        }
      ]
    },
    {
      "cell_type": "code",
      "source": [
        "df_dummies.columns"
      ],
      "metadata": {
        "colab": {
          "base_uri": "https://localhost:8080/"
        },
        "id": "q7FOGtYEf-rA",
        "outputId": "509d768f-4622-4d4c-ca8c-9fdb8d8ded8f"
      },
      "execution_count": 200,
      "outputs": [
        {
          "output_type": "execute_result",
          "data": {
            "text/plain": [
              "Index(['STATUS', 'ASK_AMT', 'IS_SUCCESSFUL', 'APPLICATION_TYPE_Other',\n",
              "       'APPLICATION_TYPE_T10', 'APPLICATION_TYPE_T12', 'APPLICATION_TYPE_T13',\n",
              "       'APPLICATION_TYPE_T19', 'APPLICATION_TYPE_T2', 'APPLICATION_TYPE_T3',\n",
              "       'APPLICATION_TYPE_T4', 'APPLICATION_TYPE_T5', 'APPLICATION_TYPE_T6',\n",
              "       'APPLICATION_TYPE_T7', 'APPLICATION_TYPE_T8', 'APPLICATION_TYPE_T9',\n",
              "       'CLASSIFICATION_C0', 'CLASSIFICATION_C1000', 'CLASSIFICATION_C1200',\n",
              "       'CLASSIFICATION_C1230', 'CLASSIFICATION_C1235', 'CLASSIFICATION_C1237',\n",
              "       'CLASSIFICATION_C1238', 'CLASSIFICATION_C1240', 'CLASSIFICATION_C1250',\n",
              "       'CLASSIFICATION_C1257', 'CLASSIFICATION_C1260', 'CLASSIFICATION_C1270',\n",
              "       'CLASSIFICATION_C1278', 'CLASSIFICATION_C1280', 'CLASSIFICATION_C1300',\n",
              "       'CLASSIFICATION_C1400', 'CLASSIFICATION_C1500', 'CLASSIFICATION_C1600',\n",
              "       'CLASSIFICATION_C1700', 'CLASSIFICATION_C1720', 'CLASSIFICATION_C1800',\n",
              "       'CLASSIFICATION_C2000', 'CLASSIFICATION_C2100', 'CLASSIFICATION_C2300',\n",
              "       'CLASSIFICATION_C2400', 'CLASSIFICATION_C2700', 'CLASSIFICATION_C2710',\n",
              "       'CLASSIFICATION_C2800', 'CLASSIFICATION_C3000', 'CLASSIFICATION_C4000',\n",
              "       'CLASSIFICATION_C4100', 'CLASSIFICATION_C5000', 'CLASSIFICATION_C6000',\n",
              "       'CLASSIFICATION_C7000', 'CLASSIFICATION_C7100', 'CLASSIFICATION_C7120',\n",
              "       'CLASSIFICATION_C7200', 'CLASSIFICATION_C7210', 'CLASSIFICATION_C8000',\n",
              "       'CLASSIFICATION_C8200', 'CLASSIFICATION_Other',\n",
              "       'ORGANIZATION_Association', 'ORGANIZATION_Co-operative',\n",
              "       'ORGANIZATION_Corporation', 'ORGANIZATION_Trust',\n",
              "       'USE_CASE_CommunityServ', 'USE_CASE_Heathcare', 'USE_CASE_Other',\n",
              "       'USE_CASE_Preservation', 'USE_CASE_ProductDev',\n",
              "       'AFFILIATION_CompanySponsored', 'AFFILIATION_Family/Parent',\n",
              "       'AFFILIATION_Independent', 'AFFILIATION_National', 'AFFILIATION_Other',\n",
              "       'AFFILIATION_Regional', 'SPECIAL_CONSIDERATIONS_N',\n",
              "       'SPECIAL_CONSIDERATIONS_Y', 'INCOME_AMT_0', 'INCOME_AMT_1-9999',\n",
              "       'INCOME_AMT_10000-24999', 'INCOME_AMT_100000-499999',\n",
              "       'INCOME_AMT_10M-50M', 'INCOME_AMT_1M-5M', 'INCOME_AMT_25000-99999',\n",
              "       'INCOME_AMT_50M+', 'INCOME_AMT_5M-10M'],\n",
              "      dtype='object')"
            ]
          },
          "metadata": {},
          "execution_count": 200
        }
      ]
    },
    {
      "cell_type": "code",
      "execution_count": 201,
      "metadata": {
        "id": "JfvIdbMXuYvk"
      },
      "outputs": [],
      "source": [
        "# Split our preprocessed data into our features and target arrays\n",
        "X = df_dummies.drop('IS_SUCCESSFUL', axis=1)\n",
        "y = df_dummies['IS_SUCCESSFUL']\n",
        "\n",
        "# Split the preprocessed data into a training and testing dataset\n",
        "from sklearn.model_selection import train_test_split\n",
        "X_train, X_test, y_train, y_test = train_test_split(X, y, test_size=0.2, random_state=42)\n"
      ]
    },
    {
      "cell_type": "code",
      "execution_count": 202,
      "metadata": {
        "id": "_o8ifeLwuYvk"
      },
      "outputs": [],
      "source": [
        "# Create a StandardScaler instances\n",
        "scaler = StandardScaler()\n",
        "\n",
        "# Fit the StandardScaler\n",
        "X_scaler = scaler.fit(X_train)\n",
        "\n",
        "# Scale the data\n",
        "X_train_scaled = X_scaler.transform(X_train)\n",
        "X_test_scaled = X_scaler.transform(X_test)"
      ]
    },
    {
      "cell_type": "markdown",
      "metadata": {
        "id": "AA7IkDEQuYvl"
      },
      "source": [
        "## Compile, Train and Evaluate the Model"
      ]
    },
    {
      "cell_type": "code",
      "source": [
        "# Define the model - deep neural net i.e. the number of input features and hidden nodes for each layer.\n",
        "input_features = X_train_scaled.shape[1]\n",
        "\n",
        "nn = tf.keras.models.Sequential()\n",
        "\n",
        "# First hidden layer\n",
        "# Using 'relu' as the activation function and 80 neurons\n",
        "nn.add(tf.keras.layers.Dense(units=100, activation='relu', input_dim=input_features))\n",
        "\n",
        "# Second hidden layer\n",
        "# Using 'relu' as the activation function and 30 neurons\n",
        "nn.add(tf.keras.layers.Dense(units=100, activation='relu'))\n",
        "\n",
        "# Third hidden layer\n",
        "# Using 'relu' as the activation function and 30 neurons\n",
        "nn.add(tf.keras.layers.Dense(units=100, activation='relu'))\n",
        "\n",
        "# Fourth hidden layer\n",
        "# Using 'relu' as the activation function and 30 neurons\n",
        "nn.add(tf.keras.layers.Dense(units=100, activation='relu'))\n",
        "\n",
        "# Fifth hidden layer\n",
        "# Using 'tanh' as the activation function and 30 neurons\n",
        "nn.add(tf.keras.layers.Dense(units=30, activation='relu'))\n",
        "\n",
        "# Output layer\n",
        "# Using 'sigmoid' as the activation function because this is a binary classification problem\n",
        "nn.add(tf.keras.layers.Dense(units=1, activation='sigmoid'))\n",
        "\n",
        "# Check the structure of the model\n",
        "nn.summary()\n"
      ],
      "metadata": {
        "colab": {
          "base_uri": "https://localhost:8080/"
        },
        "id": "fdetDtoEmAFt",
        "outputId": "3f790427-3870-4940-c5cc-ebb0fe8bf36b"
      },
      "execution_count": 203,
      "outputs": [
        {
          "output_type": "stream",
          "name": "stdout",
          "text": [
            "Model: \"sequential_9\"\n",
            "_________________________________________________________________\n",
            " Layer (type)                Output Shape              Param #   \n",
            "=================================================================\n",
            " dense_35 (Dense)            (None, 100)               8300      \n",
            "                                                                 \n",
            " dense_36 (Dense)            (None, 100)               10100     \n",
            "                                                                 \n",
            " dense_37 (Dense)            (None, 100)               10100     \n",
            "                                                                 \n",
            " dense_38 (Dense)            (None, 100)               10100     \n",
            "                                                                 \n",
            " dense_39 (Dense)            (None, 30)                3030      \n",
            "                                                                 \n",
            " dense_40 (Dense)            (None, 1)                 31        \n",
            "                                                                 \n",
            "=================================================================\n",
            "Total params: 41,661\n",
            "Trainable params: 41,661\n",
            "Non-trainable params: 0\n",
            "_________________________________________________________________\n"
          ]
        }
      ]
    },
    {
      "cell_type": "code",
      "execution_count": 204,
      "metadata": {
        "id": "1NB23kEtuYvl"
      },
      "outputs": [],
      "source": [
        "# Compile the model\n",
        "nn.compile(optimizer='adam',\n",
        "           loss='binary_crossentropy',\n",
        "           metrics=['accuracy'])"
      ]
    },
    {
      "cell_type": "code",
      "execution_count": 205,
      "metadata": {
        "id": "Xi3yzYYluYvl",
        "colab": {
          "base_uri": "https://localhost:8080/"
        },
        "outputId": "fb264d49-73c0-4ed8-b54b-6ad3031cdea2"
      },
      "outputs": [
        {
          "output_type": "stream",
          "name": "stdout",
          "text": [
            "Epoch 1/60\n",
            "858/858 [==============================] - 4s 3ms/step - loss: 0.5640 - accuracy: 0.7221\n",
            "Epoch 2/60\n",
            "858/858 [==============================] - 2s 3ms/step - loss: 0.5519 - accuracy: 0.7313\n",
            "Epoch 3/60\n",
            "858/858 [==============================] - 4s 4ms/step - loss: 0.5486 - accuracy: 0.7310\n",
            "Epoch 4/60\n",
            "858/858 [==============================] - 2s 3ms/step - loss: 0.5468 - accuracy: 0.7331\n",
            "Epoch 5/60\n",
            "858/858 [==============================] - 3s 3ms/step - loss: 0.5449 - accuracy: 0.7334\n",
            "Epoch 6/60\n",
            "858/858 [==============================] - 2s 3ms/step - loss: 0.5442 - accuracy: 0.7348\n",
            "Epoch 7/60\n",
            "858/858 [==============================] - 3s 3ms/step - loss: 0.5428 - accuracy: 0.7353\n",
            "Epoch 8/60\n",
            "858/858 [==============================] - 3s 4ms/step - loss: 0.5426 - accuracy: 0.7351\n",
            "Epoch 9/60\n",
            "858/858 [==============================] - 2s 3ms/step - loss: 0.5412 - accuracy: 0.7346\n",
            "Epoch 10/60\n",
            "858/858 [==============================] - 2s 3ms/step - loss: 0.5415 - accuracy: 0.7364\n",
            "Epoch 11/60\n",
            "858/858 [==============================] - 2s 3ms/step - loss: 0.5400 - accuracy: 0.7363\n",
            "Epoch 12/60\n",
            "858/858 [==============================] - 4s 4ms/step - loss: 0.5401 - accuracy: 0.7363\n",
            "Epoch 13/60\n",
            "858/858 [==============================] - 3s 4ms/step - loss: 0.5391 - accuracy: 0.7374\n",
            "Epoch 14/60\n",
            "858/858 [==============================] - 3s 3ms/step - loss: 0.5382 - accuracy: 0.7372\n",
            "Epoch 15/60\n",
            "858/858 [==============================] - 2s 3ms/step - loss: 0.5377 - accuracy: 0.7365\n",
            "Epoch 16/60\n",
            "858/858 [==============================] - 2s 3ms/step - loss: 0.5375 - accuracy: 0.7376\n",
            "Epoch 17/60\n",
            "858/858 [==============================] - 3s 3ms/step - loss: 0.5371 - accuracy: 0.7368\n",
            "Epoch 18/60\n",
            "858/858 [==============================] - 3s 3ms/step - loss: 0.5361 - accuracy: 0.7378\n",
            "Epoch 19/60\n",
            "858/858 [==============================] - 2s 3ms/step - loss: 0.5359 - accuracy: 0.7392\n",
            "Epoch 20/60\n",
            "858/858 [==============================] - 2s 3ms/step - loss: 0.5353 - accuracy: 0.7384\n",
            "Epoch 21/60\n",
            "858/858 [==============================] - 2s 3ms/step - loss: 0.5356 - accuracy: 0.7389\n",
            "Epoch 22/60\n",
            "858/858 [==============================] - 3s 3ms/step - loss: 0.5357 - accuracy: 0.7392\n",
            "Epoch 23/60\n",
            "858/858 [==============================] - 3s 3ms/step - loss: 0.5356 - accuracy: 0.7385\n",
            "Epoch 24/60\n",
            "858/858 [==============================] - 2s 3ms/step - loss: 0.5348 - accuracy: 0.7395\n",
            "Epoch 25/60\n",
            "858/858 [==============================] - 3s 3ms/step - loss: 0.5350 - accuracy: 0.7377\n",
            "Epoch 26/60\n",
            "858/858 [==============================] - 2s 3ms/step - loss: 0.5338 - accuracy: 0.7395\n",
            "Epoch 27/60\n",
            "858/858 [==============================] - 3s 4ms/step - loss: 0.5346 - accuracy: 0.7391\n",
            "Epoch 28/60\n",
            "858/858 [==============================] - 3s 3ms/step - loss: 0.5346 - accuracy: 0.7383\n",
            "Epoch 29/60\n",
            "858/858 [==============================] - 2s 3ms/step - loss: 0.5339 - accuracy: 0.7394\n",
            "Epoch 30/60\n",
            "858/858 [==============================] - 2s 3ms/step - loss: 0.5341 - accuracy: 0.7400\n",
            "Epoch 31/60\n",
            "858/858 [==============================] - 2s 3ms/step - loss: 0.5335 - accuracy: 0.7403\n",
            "Epoch 32/60\n",
            "858/858 [==============================] - 3s 4ms/step - loss: 0.5331 - accuracy: 0.7401\n",
            "Epoch 33/60\n",
            "858/858 [==============================] - 2s 3ms/step - loss: 0.5341 - accuracy: 0.7405\n",
            "Epoch 34/60\n",
            "858/858 [==============================] - 2s 3ms/step - loss: 0.5342 - accuracy: 0.7398\n",
            "Epoch 35/60\n",
            "858/858 [==============================] - 3s 3ms/step - loss: 0.5323 - accuracy: 0.7400\n",
            "Epoch 36/60\n",
            "858/858 [==============================] - 2s 3ms/step - loss: 0.5319 - accuracy: 0.7400\n",
            "Epoch 37/60\n",
            "858/858 [==============================] - 4s 4ms/step - loss: 0.5327 - accuracy: 0.7399\n",
            "Epoch 38/60\n",
            "858/858 [==============================] - 2s 3ms/step - loss: 0.5353 - accuracy: 0.7389\n",
            "Epoch 39/60\n",
            "858/858 [==============================] - 2s 3ms/step - loss: 0.5332 - accuracy: 0.7405\n",
            "Epoch 40/60\n",
            "858/858 [==============================] - 2s 3ms/step - loss: 0.5317 - accuracy: 0.7409\n",
            "Epoch 41/60\n",
            "858/858 [==============================] - 2s 3ms/step - loss: 0.5340 - accuracy: 0.7391\n",
            "Epoch 42/60\n",
            "858/858 [==============================] - 4s 4ms/step - loss: 0.5341 - accuracy: 0.7383\n",
            "Epoch 43/60\n",
            "858/858 [==============================] - 3s 3ms/step - loss: 0.5332 - accuracy: 0.7407\n",
            "Epoch 44/60\n",
            "858/858 [==============================] - 3s 3ms/step - loss: 0.5327 - accuracy: 0.7407\n",
            "Epoch 45/60\n",
            "858/858 [==============================] - 2s 3ms/step - loss: 0.5318 - accuracy: 0.7404\n",
            "Epoch 46/60\n",
            "858/858 [==============================] - 3s 3ms/step - loss: 0.5320 - accuracy: 0.7410\n",
            "Epoch 47/60\n",
            "858/858 [==============================] - 4s 4ms/step - loss: 0.5321 - accuracy: 0.7411\n",
            "Epoch 48/60\n",
            "858/858 [==============================] - 5s 6ms/step - loss: 0.5322 - accuracy: 0.7402\n",
            "Epoch 49/60\n",
            "858/858 [==============================] - 2s 3ms/step - loss: 0.5314 - accuracy: 0.7409\n",
            "Epoch 50/60\n",
            "858/858 [==============================] - 4s 4ms/step - loss: 0.5322 - accuracy: 0.7417\n",
            "Epoch 51/60\n",
            "858/858 [==============================] - 3s 3ms/step - loss: 0.5320 - accuracy: 0.7412\n",
            "Epoch 52/60\n",
            "858/858 [==============================] - 2s 3ms/step - loss: 0.5324 - accuracy: 0.7409\n",
            "Epoch 53/60\n",
            "858/858 [==============================] - 2s 3ms/step - loss: 0.5322 - accuracy: 0.7410\n",
            "Epoch 54/60\n",
            "858/858 [==============================] - 3s 3ms/step - loss: 0.5327 - accuracy: 0.7413\n",
            "Epoch 55/60\n",
            "858/858 [==============================] - 3s 4ms/step - loss: 0.5331 - accuracy: 0.7412\n",
            "Epoch 56/60\n",
            "858/858 [==============================] - 2s 3ms/step - loss: 0.5316 - accuracy: 0.7415\n",
            "Epoch 57/60\n",
            "858/858 [==============================] - 2s 3ms/step - loss: 0.5324 - accuracy: 0.7399\n",
            "Epoch 58/60\n",
            "858/858 [==============================] - 2s 3ms/step - loss: 0.5324 - accuracy: 0.7409\n",
            "Epoch 59/60\n",
            "858/858 [==============================] - 3s 3ms/step - loss: 0.5317 - accuracy: 0.7415\n",
            "Epoch 60/60\n",
            "858/858 [==============================] - 3s 4ms/step - loss: 0.5322 - accuracy: 0.7419\n"
          ]
        }
      ],
      "source": [
        "# Train the model\n",
        "fit_model = nn.fit(X_train_scaled, y_train, epochs=60)\n"
      ]
    },
    {
      "cell_type": "code",
      "execution_count": 206,
      "metadata": {
        "id": "1_jbhaVCuYvm",
        "colab": {
          "base_uri": "https://localhost:8080/"
        },
        "outputId": "0d4fbd9a-f2ca-48e8-bca9-1baced54b6ba"
      },
      "outputs": [
        {
          "output_type": "stream",
          "name": "stdout",
          "text": [
            "215/215 - 0s - loss: 0.5600 - accuracy: 0.7268 - 429ms/epoch - 2ms/step\n",
            "Loss: 0.5600034594535828, Accuracy: 0.7268221378326416\n"
          ]
        }
      ],
      "source": [
        "# Evaluate the model using the test data\n",
        "model_loss, model_accuracy = nn.evaluate(X_test_scaled,y_test,verbose=2)\n",
        "print(f\"Loss: {model_loss}, Accuracy: {model_accuracy}\")"
      ]
    },
    {
      "cell_type": "code",
      "execution_count": 207,
      "metadata": {
        "id": "tZ0Ulhy8uYvm"
      },
      "outputs": [],
      "source": [
        "# Export our model to HDF5 file\n",
        "nn.save(\"my_model.h5\")"
      ]
    }
  ],
  "metadata": {
    "kernelspec": {
      "display_name": "Python 3",
      "language": "python",
      "name": "python3"
    },
    "language_info": {
      "codemirror_mode": {
        "name": "ipython",
        "version": 3
      },
      "file_extension": ".py",
      "mimetype": "text/x-python",
      "name": "python",
      "nbconvert_exporter": "python",
      "pygments_lexer": "ipython3",
      "version": "3.-1.-1"
    },
    "vscode": {
      "interpreter": {
        "hash": "31f2aee4e71d21fbe5cf8b01ff0e069b9275f58929596ceb00d14d90e3e16cd6"
      }
    },
    "colab": {
      "provenance": []
    }
  },
  "nbformat": 4,
  "nbformat_minor": 0
}